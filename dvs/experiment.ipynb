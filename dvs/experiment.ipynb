{
 "cells": [
  {
   "cell_type": "code",
   "execution_count": 4,
   "id": "4174d5c6",
   "metadata": {},
   "outputs": [],
   "source": [
    "from node import VectorStore\n",
    "import os\n",
    "from dotenv import load_dotenv\n",
    "import pandas as pd\n",
    "\n",
    "load_dotenv()\n",
    "\n",
    "HOSTNAME = os.getenv(\"REDIS_HOSTNAME\")"
   ]
  },
  {
   "cell_type": "code",
   "execution_count": 5,
   "id": "7766174f",
   "metadata": {},
   "outputs": [
    {
     "name": "stdout",
     "output_type": "stream",
     "text": [
      "09:50:15 redisvl.index.index INFO   Index already exists, overwriting.\n",
      "09:50:15 sentence_transformers.SentenceTransformer INFO   Use pytorch device_name: mps\n",
      "09:50:15 sentence_transformers.SentenceTransformer INFO   Load pretrained SentenceTransformer: sentence-transformers/all-mpnet-base-v2\n"
     ]
    },
    {
     "name": "stderr",
     "output_type": "stream",
     "text": [
      "Batches: 100%|██████████| 1/1 [00:00<00:00, 15.21it/s]"
     ]
    },
    {
     "name": "stdout",
     "output_type": "stream",
     "text": [
      "09:50:18 redisvl.index.index INFO   Index already exists, overwriting.\n",
      "09:50:18 sentence_transformers.SentenceTransformer INFO   Use pytorch device_name: mps\n",
      "09:50:18 sentence_transformers.SentenceTransformer INFO   Load pretrained SentenceTransformer: sentence-transformers/all-mpnet-base-v2\n"
     ]
    },
    {
     "name": "stderr",
     "output_type": "stream",
     "text": [
      "\n",
      "Batches: 100%|██████████| 1/1 [00:00<00:00, 22.22it/s]\n"
     ]
    }
   ],
   "source": [
    "# Create Memory and Context VectorStores\n",
    "\n",
    "context = VectorStore(hostname = HOSTNAME, index = \"context\")\n",
    "memory = VectorStore(hostname = HOSTNAME, index = \"memory\")"
   ]
  },
  {
   "cell_type": "code",
   "execution_count": 6,
   "id": "a623a6a1",
   "metadata": {},
   "outputs": [
    {
     "name": "stderr",
     "output_type": "stream",
     "text": [
      "Batches: 100%|██████████| 1/1 [00:00<00:00,  8.28it/s]\n"
     ]
    },
    {
     "data": {
      "text/html": [
       "<div>\n",
       "<style scoped>\n",
       "    .dataframe tbody tr th:only-of-type {\n",
       "        vertical-align: middle;\n",
       "    }\n",
       "\n",
       "    .dataframe tbody tr th {\n",
       "        vertical-align: top;\n",
       "    }\n",
       "\n",
       "    .dataframe thead th {\n",
       "        text-align: right;\n",
       "    }\n",
       "</style>\n",
       "<table border=\"1\" class=\"dataframe\">\n",
       "  <thead>\n",
       "    <tr style=\"text-align: right;\">\n",
       "      <th></th>\n",
       "      <th>id</th>\n",
       "      <th>vector_distance</th>\n",
       "      <th>content</th>\n",
       "    </tr>\n",
       "  </thead>\n",
       "  <tbody>\n",
       "    <tr>\n",
       "      <th>0</th>\n",
       "      <td>user_context:01K0JV9RFVWE2QPDHRCRG8GMXF</td>\n",
       "      <td>0.519701400215</td>\n",
       "      <td>Team members complain that the air conditionin...</td>\n",
       "    </tr>\n",
       "    <tr>\n",
       "      <th>1</th>\n",
       "      <td>user_context:01K0JV9RFT4ZETB80V9TXRMBX3</td>\n",
       "      <td>0.838003215818</td>\n",
       "      <td>The Python program is full of bugs</td>\n",
       "    </tr>\n",
       "    <tr>\n",
       "      <th>2</th>\n",
       "      <td>user_context:01K0JV9RFVC9705ASJST6C2PSY</td>\n",
       "      <td>0.884701028109</td>\n",
       "      <td>The support staff often misses updates sent vi...</td>\n",
       "    </tr>\n",
       "  </tbody>\n",
       "</table>\n",
       "</div>"
      ],
      "text/plain": [
       "                                        id vector_distance  \\\n",
       "0  user_context:01K0JV9RFVWE2QPDHRCRG8GMXF  0.519701400215   \n",
       "1  user_context:01K0JV9RFT4ZETB80V9TXRMBX3  0.838003215818   \n",
       "2  user_context:01K0JV9RFVC9705ASJST6C2PSY  0.884701028109   \n",
       "\n",
       "                                             content  \n",
       "0  Team members complain that the air conditionin...  \n",
       "1                 The Python program is full of bugs  \n",
       "2  The support staff often misses updates sent vi...  "
      ]
     },
     "execution_count": 6,
     "metadata": {},
     "output_type": "execute_result"
    }
   ],
   "source": [
    "# Query based on sample user prompt\n",
    "\n",
    "results = context.query(\"how is the air conditioning?\")\n",
    "df = pd.DataFrame(results)\n",
    "\n",
    "df.head()"
   ]
  },
  {
   "cell_type": "code",
   "execution_count": null,
   "id": "ce53b157",
   "metadata": {},
   "outputs": [],
   "source": [
    "# Add new vector to vectorstore\n",
    "\n",
    "context.add(\"vector search in redis is super easy to implement\")"
   ]
  }
 ],
 "metadata": {
  "kernelspec": {
   "display_name": "featureform",
   "language": "python",
   "name": "python3"
  },
  "language_info": {
   "codemirror_mode": {
    "name": "ipython",
    "version": 3
   },
   "file_extension": ".py",
   "mimetype": "text/x-python",
   "name": "python",
   "nbconvert_exporter": "python",
   "pygments_lexer": "ipython3",
   "version": "3.13.5"
  }
 },
 "nbformat": 4,
 "nbformat_minor": 5
}
