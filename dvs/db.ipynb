{
 "cells": [
  {
   "cell_type": "code",
   "execution_count": 1,
   "id": "eaac0605",
   "metadata": {},
   "outputs": [],
   "source": [
    "from db import Database\n",
    "import os\n",
    "from dotenv import load_dotenv\n",
    "import pandas as pd\n",
    "\n",
    "load_dotenv()\n",
    "\n",
    "HOST = os.getenv(\"REDIS_HOST\")\n",
    "PORT = os.getenv(\"REDIS_PORT\")\n",
    "PASSWORD = os.getenv(\"REDIS_PASSWORD\")"
   ]
  },
  {
   "cell_type": "code",
   "execution_count": 2,
   "id": "542e11d5",
   "metadata": {},
   "outputs": [],
   "source": [
    "db = Database(host = HOST, port = PORT, password = PASSWORD)"
   ]
  },
  {
   "cell_type": "code",
   "execution_count": 3,
   "id": "e299cf51",
   "metadata": {},
   "outputs": [
    {
     "data": {
      "text/plain": [
       "{'id': 'user:123',\n",
       " 'name': 'Paul John',\n",
       " 'projects': ['one', 'two'],\n",
       " 'createdAt': '1753036868'}"
      ]
     },
     "execution_count": 3,
     "metadata": {},
     "output_type": "execute_result"
    }
   ],
   "source": [
    "db.get_user(\"123\")"
   ]
  },
  {
   "cell_type": "code",
   "execution_count": 4,
   "id": "88acb934",
   "metadata": {},
   "outputs": [],
   "source": [
    "user = {\n",
    "    \"id\": \"321\",\n",
    "    \"name\": \"Jane Doe\",\n",
    "    \"projects\": [\"three\", \"four\", \"five\"],\n",
    "}\n",
    "\n",
    "db.add_user(user)"
   ]
  },
  {
   "cell_type": "code",
   "execution_count": 5,
   "id": "0d1fa470",
   "metadata": {},
   "outputs": [
    {
     "data": {
      "text/plain": [
       "{'id': 'user:321',\n",
       " 'name': 'Jane Doe',\n",
       " 'projects': ['three', 'four', 'five'],\n",
       " 'createdAt': '1753037236'}"
      ]
     },
     "execution_count": 5,
     "metadata": {},
     "output_type": "execute_result"
    }
   ],
   "source": [
    "db.get_user(\"321\")"
   ]
  },
  {
   "cell_type": "code",
   "execution_count": null,
   "id": "7d975b35",
   "metadata": {},
   "outputs": [],
   "source": []
  }
 ],
 "metadata": {
  "language_info": {
   "name": "python"
  }
 },
 "nbformat": 4,
 "nbformat_minor": 5
}
